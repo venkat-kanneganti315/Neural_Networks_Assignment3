{
  "nbformat": 4,
  "nbformat_minor": 0,
  "metadata": {
    "colab": {
      "provenance": []
    },
    "kernelspec": {
      "name": "python3",
      "display_name": "Python 3"
    },
    "language_info": {
      "name": "python"
    }
  },
  "cells": [
    {
      "cell_type": "code",
      "execution_count": 7,
      "metadata": {
        "colab": {
          "base_uri": "https://localhost:8080/"
        },
        "id": "x1Y4d4WVfs80",
        "outputId": "c78b50d0-546c-4a9f-8d2d-c169b4e57c13"
      },
      "outputs": [
        {
          "output_type": "stream",
          "name": "stdout",
          "text": [
            "Average Salary For All the Full Time And Employees : 57500.0\n",
            "Total Number of full time and Employees: 5\n"
          ]
        }
      ],
      "source": [
        "class Employee:\n",
        "    numberOfEmployees = 0\n",
        "\n",
        "    def __init__(self, name, family, salary, department):\n",
        "        self.name = name\n",
        "        self.family = family\n",
        "        self.salary = salary\n",
        "        self.department = department\n",
        "        Employee.numberOfEmployees += 1\n",
        "\n",
        "\n",
        "    def averageSalary(employee_list):\n",
        "        totalSalary = sum(employee.salary for employee in employee_list)\n",
        "        return totalSalary / len(employee_list)\n",
        "\n",
        "\n",
        "class FulltimeEmployee(Employee):\n",
        "    def __init__(self, name, family, salary, department):\n",
        "        super().__init__(name, family, salary, department)\n",
        "\n",
        "\n",
        "employee1 = Employee(\"venkat\", \"Familia\", 90000, \"Manager\")\n",
        "employee2 = Employee(\"surendra\", \"Savanam\", 80000, \"Finance\")\n",
        "employee3=  Employee(\"Akhil\",     \"koti\",    70000, \"Digital Marketing\")\n",
        "\n",
        "fullTimeEmployee1 = FulltimeEmployee(\"pavan\", \"kumar\",25000, \"HR\")\n",
        "fullTimeEmployee2 = FulltimeEmployee(\"Moksha\", \"panala\", 35000, \"Lead\")\n",
        "\n",
        "employees = [employee1, employee2, fullTimeEmployee1, fullTimeEmployee2]\n",
        "\n",
        "avgSalary = Employee.averageSalary(employees)\n",
        "print(\"Average Salary For All the Full Time And Employees :\", avgSalary)\n",
        "print(\"Total Number of full time and Employees:\", Employee.numberOfEmployees)\n"
      ]
    },
    {
      "cell_type": "code",
      "source": [
        "import numpy as np\n",
        "randomVector = np.random.uniform(1, 20, 20)\n",
        "reshapedArray = randomVector.reshape(4, 5)\n",
        "reshapedArray[np.arange(reshapedArray.shape[0]), reshapedArray.argmax(axis=1)] = 0\n",
        "print(reshapedArray)\n"
      ],
      "metadata": {
        "colab": {
          "base_uri": "https://localhost:8080/"
        },
        "id": "IqCn08dJoXak",
        "outputId": "efa3a759-a07b-45d3-afba-cfb2ac477ebf"
      },
      "execution_count": 8,
      "outputs": [
        {
          "output_type": "stream",
          "name": "stdout",
          "text": [
            "[[14.8335098   4.4341182  14.75343627  3.94585572  0.        ]\n",
            " [ 0.         17.68882402  5.84084852 15.0173647  11.62776266]\n",
            " [ 8.43664978  3.77233942  7.84056462  2.48969038  0.        ]\n",
            " [ 7.03047519  4.00776358 10.15584741 14.06236795  0.        ]]\n"
          ]
        }
      ]
    }
  ]
}